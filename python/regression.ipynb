{
 "cells": [
  {
   "cell_type": "code",
   "execution_count": 4,
   "id": "0d28a7f2",
   "metadata": {},
   "outputs": [],
   "source": [
    "import pandas as pd # For dataframes (tables)\n",
    "import numpy as np # For arange\n",
    "import matplotlib.pyplot as plt # For plots\n",
    "%matplotlib inline\n",
    "from sklearn.model_selection import train_test_split\n",
    "from sklearn.metrics import mean_squared_error\n",
    "import math # for sqrt\n",
    "from sklearn.model_selection import cross_val_score, KFold\n",
    "import pickle # to serialize/deserialize objects\n",
    "\n",
    "from statistics import mean\n",
    "\n",
    "from andrea_models import AndreaLinearRegression # In the course library\n",
    "import feature_engineering # From the course library"
   ]
  },
  {
   "cell_type": "code",
   "execution_count": null,
   "id": "b7dd9515",
   "metadata": {},
   "outputs": [],
   "source": []
  }
 ],
 "metadata": {
  "kernelspec": {
   "display_name": "base",
   "language": "python",
   "name": "python3"
  },
  "language_info": {
   "codemirror_mode": {
    "name": "ipython",
    "version": 3
   },
   "file_extension": ".py",
   "mimetype": "text/x-python",
   "name": "python",
   "nbconvert_exporter": "python",
   "pygments_lexer": "ipython3",
   "version": "3.10.13"
  }
 },
 "nbformat": 4,
 "nbformat_minor": 5
}
